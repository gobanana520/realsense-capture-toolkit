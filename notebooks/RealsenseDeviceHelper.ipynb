{
 "cells": [
  {
   "cell_type": "code",
   "execution_count": null,
   "metadata": {},
   "outputs": [],
   "source": [
    "import pyrealsense2 as rs\n",
    "from dataclasses import dataclass\n"
   ]
  }
 ],
 "metadata": {
  "kernelspec": {
   "display_name": "rs-capture-toolkit",
   "language": "python",
   "name": "python3"
  },
  "language_info": {
   "name": "python",
   "version": "3.10.14"
  }
 },
 "nbformat": 4,
 "nbformat_minor": 2
}
